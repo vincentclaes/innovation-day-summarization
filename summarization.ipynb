{
 "cells": [
  {
   "cell_type": "markdown",
   "metadata": {},
   "source": [
    "# 1. Summarization\n",
    "\n",
    "- model: https://huggingface.co/knkarthick/MEETING_SUMMARY\n",
    "- It's facebook/bart-large-xsum fine-tuned on meeting corpus"
   ]
  },
  {
   "cell_type": "code",
   "execution_count": 1,
   "metadata": {},
   "outputs": [
    {
     "name": "stderr",
     "output_type": "stream",
     "text": [
      "/home/codespace/.python/current/lib/python3.10/site-packages/tqdm/auto.py:22: TqdmWarning: IProgress not found. Please update jupyter and ipywidgets. See https://ipywidgets.readthedocs.io/en/stable/user_install.html\n",
      "  from .autonotebook import tqdm as notebook_tqdm\n"
     ]
    }
   ],
   "source": [
    "from transformers import pipeline\n",
    "\n",
    "def run_summarize(path, model=\"knkarthick/MEETING_SUMMARY\"):\n",
    "    transcript = open(path, \"r\").read()\n",
    "    summarizer = pipeline(\n",
    "                        \"summarization\", \n",
    "                        model=model, \n",
    "                        truncation=True\n",
    "    )\n",
    "    _summary = summarizer(transcript)\n",
    "    print(\"\")\n",
    "    summary = _summary[0][\"summary_text\"]\n",
    "    print(summary)"
   ]
  },
  {
   "cell_type": "markdown",
   "metadata": {},
   "source": [
    "### Run Summary On Entire Transcript"
   ]
  },
  {
   "cell_type": "code",
   "execution_count": 3,
   "metadata": {},
   "outputs": [
    {
     "name": "stdout",
     "output_type": "stream",
     "text": [
      "\n",
      "For the Belgium DBE tenant, the technical metadata is configured in a central project called Octopus. For the other tenants, the setup is a bit different and they have to follow different procedures.\n"
     ]
    }
   ],
   "source": [
    "run_summarize(\"./shiva-metadata-meeting.txt\")"
   ]
  },
  {
   "cell_type": "code",
   "execution_count": 4,
   "metadata": {},
   "outputs": [
    {
     "name": "stdout",
     "output_type": "stream",
     "text": [
      "\n",
      "David Lambregs wants to set up an AI model that can generate a report automatically. Tomas Mardjan wants to link M Lflow pipelines.\n"
     ]
    }
   ],
   "source": [
    "run_summarize(\"./innovation-day-noon-meeting.txt\")\n"
   ]
  },
  {
   "cell_type": "markdown",
   "metadata": {},
   "source": [
    "• Model is limited to 1024 tokens / words it can summarize.  \n",
    "• This is why we have a summary only for David and partially for Tomas.\n",
    "• If we split the transcript to each person we have:\n"
   ]
  },
  {
   "cell_type": "code",
   "execution_count": 5,
   "metadata": {},
   "outputs": [
    {
     "name": "stdout",
     "output_type": "stream",
     "text": [
      "\n",
      "David Lambregs wants to set up an AI model that can generate a report automatically so that there are always reports on a meeting with the to do described. \n"
     ]
    }
   ],
   "source": [
    "run_summarize(\"./innovation-day-noon-meeting-david.txt\")\n"
   ]
  },
  {
   "cell_type": "code",
   "execution_count": 6,
   "metadata": {},
   "outputs": [
    {
     "name": "stdout",
     "output_type": "stream",
     "text": [
      "\n",
      "M Lflow recipes is an open source project aimed at helping data scientists develop models and deploy them to production. It consists of recipes and steps.\n"
     ]
    }
   ],
   "source": [
    "run_summarize(\"./innovation-day-noon-meeting-tomas.txt\")\n"
   ]
  },
  {
   "cell_type": "code",
   "execution_count": 7,
   "metadata": {},
   "outputs": [
    {
     "name": "stdout",
     "output_type": "stream",
     "text": [
      "\n",
      "Dimitri Pfeiffer has been working on the contest store exploring what it can do for us. It doesn't work out-of-the-box with Nexus channels, so if they want to use it, they will have to make some changes to the codes.\n"
     ]
    }
   ],
   "source": [
    "run_summarize(\"./innovation-day-noon-meeting-dimitri.txt\")\n"
   ]
  },
  {
   "cell_type": "code",
   "execution_count": 8,
   "metadata": {},
   "outputs": [
    {
     "name": "stdout",
     "output_type": "stream",
     "text": [
      "\n",
      "Cedric and Thiago are working on Kida. They are trying to scale up and down the deployments of the instances based on events and metrics. There is an HTTP add-on for Kida that is promising.\n"
     ]
    }
   ],
   "source": [
    "run_summarize(\"./innovation-day-noon-meeting-thiago.txt\")\n"
   ]
  },
  {
   "cell_type": "markdown",
   "metadata": {},
   "source": [
    "# 2. TODO / Risks\n",
    "\n",
    "- Ask the questions we need using a QA pipeline\n",
    "- we use David's transcript\n",
    "- model: https://huggingface.co/deepset/roberta-base-squad2\n"
   ]
  },
  {
   "cell_type": "code",
   "execution_count": 12,
   "metadata": {},
   "outputs": [],
   "source": [
    "def qa_on_transcript(question):\n",
    "    from transformers import pipeline\n",
    "    qa_model = pipeline(\"question-answering\", \n",
    "                            model=\"deepset/roberta-base-squad2\", \n",
    "                            truncation=True\n",
    "                        )\n",
    "    context = open(\"./innovation-day-noon-meeting-david.txt\", \"r\").read()\n",
    "    result = qa_model(question = question, context = context)\n",
    "    print(result)"
   ]
  },
  {
   "cell_type": "code",
   "execution_count": 13,
   "metadata": {},
   "outputs": [
    {
     "name": "stdout",
     "output_type": "stream",
     "text": [
      "{'score': 0.003325453493744135, 'start': 1901, 'end': 1906, 'answer': 'risks'}\n"
     ]
    }
   ],
   "source": [
    "qa_on_transcript(\"what are the todo's?\")"
   ]
  },
  {
   "cell_type": "code",
   "execution_count": 14,
   "metadata": {},
   "outputs": [
    {
     "name": "stdout",
     "output_type": "stream",
     "text": [
      "{'score': 0.0007088633137755096, 'start': 1890, 'end': 1895, 'answer': 'todos'}\n"
     ]
    }
   ],
   "source": [
    "qa_on_transcript(\"what are the risks?\")"
   ]
  },
  {
   "cell_type": "markdown",
   "metadata": {},
   "source": []
  },
  {
   "cell_type": "markdown",
   "metadata": {},
   "source": [
    "## State\n",
    "\n",
    "- Short meetings with 1 speaker on 1 topic is going pretty smooth.\n",
    "- Long meetings with multiple speakers on multiple topics is hard.\n",
    "\n",
    "## Next Steps\n",
    "\n",
    "- How can we segment a long document into relevant segments around 1 topic?\n",
    "- Summarize the relevant segments\n",
    "- Training data with todo's"
   ]
  },
  {
   "cell_type": "markdown",
   "metadata": {},
   "source": []
  }
 ],
 "metadata": {
  "kernelspec": {
   "display_name": "Python 3.10.4 64-bit",
   "language": "python",
   "name": "python3"
  },
  "language_info": {
   "codemirror_mode": {
    "name": "ipython",
    "version": 3
   },
   "file_extension": ".py",
   "mimetype": "text/x-python",
   "name": "python",
   "nbconvert_exporter": "python",
   "pygments_lexer": "ipython3",
   "version": "3.10.4"
  },
  "orig_nbformat": 4,
  "vscode": {
   "interpreter": {
    "hash": "3ad933181bd8a04b432d3370b9dc3b0662ad032c4dfaa4e4f1596c548f763858"
   }
  }
 },
 "nbformat": 4,
 "nbformat_minor": 2
}
